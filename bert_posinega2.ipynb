{
 "cells": [
  {
   "cell_type": "markdown",
   "metadata": {},
   "source": [
    "# バートのポジネガ"
   ]
  },
  {
   "cell_type": "markdown",
   "metadata": {},
   "source": [
    "## パッケージのインポート"
   ]
  },
  {
   "cell_type": "code",
   "execution_count": 1,
   "metadata": {},
   "outputs": [],
   "source": [
    "import pandas as pd\n",
    "import torch\n",
    "from transformers import BertTokenizer, BertForSequenceClassification, pipeline\n",
    "from transformers import AdamW\n",
    "from sklearn.metrics import accuracy_score, precision_recall_fscore_support\n",
    "from sklearn.model_selection import train_test_split\n",
    "from datetime import datetime\n",
    "import collections\n",
    "import numpy as np\n",
    "from transformers import Trainer, TrainingArguments\n",
    "from IPython.display import HTML"
   ]
  },
  {
   "cell_type": "markdown",
   "metadata": {},
   "source": [
    "## データの読み込み、成型"
   ]
  },
  {
   "cell_type": "code",
   "execution_count": 2,
   "metadata": {},
   "outputs": [],
   "source": [
    "df = pd.read_csv(\"./data/torikizoku_twitter.csv\")\n",
    "df = df.reindex()\n",
    "df[\"label\"] = 0\n"
   ]
  },
  {
   "cell_type": "code",
   "execution_count": 3,
   "metadata": {},
   "outputs": [
    {
     "data": {
      "text/plain": [
       "46315"
      ]
     },
     "execution_count": 3,
     "metadata": {},
     "output_type": "execute_result"
    }
   ],
   "source": [
    "df[\"date\"] = [datetime.strptime(i, '%Y/%m/%d') for i in df[\"date\"]]\n",
    "df.loc[(datetime(2020,4,7)<=(df[\"date\"])) & (df[\"date\"]<datetime(2020,5,25)),[\"label\"]] = 1\n",
    "df.loc[(datetime(2021,1,7)<=df[\"date\"]) & (df[\"date\"]<datetime(2021,3,18)),[\"label\"]] = 1\n",
    "df.loc[(datetime(2021,4,23)<=df[\"date\"]) & (df[\"date\"]<datetime(2021,6,21)),[\"label\"]] = 1\n",
    "df.loc[(datetime(2021,4,23)<=df[\"date\"]) & (df[\"date\"]<datetime(2021,6,21)),[\"label\"]] = 1\n",
    "df.loc[(datetime(2021,7,12)<=df[\"date\"]) & (df[\"date\"]<datetime(2021,9,30)),[\"label\"]] = 1\n",
    "len(df[\"tweet\"])\n"
   ]
  },
  {
   "cell_type": "code",
   "execution_count": 4,
   "metadata": {},
   "outputs": [
    {
     "data": {
      "text/html": [
       "<div>\n",
       "<style scoped>\n",
       "    .dataframe tbody tr th:only-of-type {\n",
       "        vertical-align: middle;\n",
       "    }\n",
       "\n",
       "    .dataframe tbody tr th {\n",
       "        vertical-align: top;\n",
       "    }\n",
       "\n",
       "    .dataframe thead th {\n",
       "        text-align: right;\n",
       "    }\n",
       "</style>\n",
       "<table border=\"1\" class=\"dataframe\">\n",
       "  <thead>\n",
       "    <tr style=\"text-align: right;\">\n",
       "      <th></th>\n",
       "      <th>text</th>\n",
       "      <th>label</th>\n",
       "    </tr>\n",
       "  </thead>\n",
       "  <tbody>\n",
       "    <tr>\n",
       "      <th>36853</th>\n",
       "      <td>そうです。たまにライブ行ってる者です。前に池袋で客寄せしてる小西さんに水差し入れた者です笑\\...</td>\n",
       "      <td>1</td>\n",
       "    </tr>\n",
       "    <tr>\n",
       "      <th>37249</th>\n",
       "      <td>21日部屋空いてたら出るたぶん！！！！！！！！鳥貴族よろぴこ〜</td>\n",
       "      <td>1</td>\n",
       "    </tr>\n",
       "    <tr>\n",
       "      <th>23301</th>\n",
       "      <td>鳥貴族でハイボール飲んだらくじ引けて、400円当たった。ラッキー</td>\n",
       "      <td>0</td>\n",
       "    </tr>\n",
       "    <tr>\n",
       "      <th>6973</th>\n",
       "      <td>鳥貴族に行きたいです！鳥貴族でおいしい酒とおすすめメニューを教えてください！元カノにした事を...</td>\n",
       "      <td>0</td>\n",
       "    </tr>\n",
       "    <tr>\n",
       "      <th>34648</th>\n",
       "      <td>早く鳥貴族でハイボール飲みながらﾄﾞﾝﾁｬﾝ騒ぎしたいよ～！！！ただの一度も居酒屋に行かない...</td>\n",
       "      <td>0</td>\n",
       "    </tr>\n",
       "  </tbody>\n",
       "</table>\n",
       "</div>"
      ],
      "text/plain": [
       "                                                    text  label\n",
       "36853  そうです。たまにライブ行ってる者です。前に池袋で客寄せしてる小西さんに水差し入れた者です笑\\...      1\n",
       "37249                    21日部屋空いてたら出るたぶん！！！！！！！！鳥貴族よろぴこ〜      1\n",
       "23301                   鳥貴族でハイボール飲んだらくじ引けて、400円当たった。ラッキー      0\n",
       "6973   鳥貴族に行きたいです！鳥貴族でおいしい酒とおすすめメニューを教えてください！元カノにした事を...      0\n",
       "34648  早く鳥貴族でハイボール飲みながらﾄﾞﾝﾁｬﾝ騒ぎしたいよ～！！！ただの一度も居酒屋に行かない...      0"
      ]
     },
     "execution_count": 4,
     "metadata": {},
     "output_type": "execute_result"
    }
   ],
   "source": [
    "df_anno=pd.DataFrame({\"text\":df[\"tweet\"],\"label\":df[\"label\"]})\n",
    "df_anno = df_anno.dropna()\n",
    "df_anno = df_anno.sample(5000)\n",
    "df_train,df_test = train_test_split(df_anno)\n",
    "df_anno = df_anno.dropna()\n",
    "df_anno.head()"
   ]
  },
  {
   "cell_type": "code",
   "execution_count": 5,
   "metadata": {},
   "outputs": [
    {
     "data": {
      "text/plain": [
       "75"
      ]
     },
     "execution_count": 5,
     "metadata": {},
     "output_type": "execute_result"
    }
   ],
   "source": [
    "train_docs = df_train[\"text\"].tolist()\n",
    "train_labels = df_train[\"label\"].tolist()\n",
    "test_docs = df_test[\"text\"].tolist()\n",
    "test_labels = df_test[\"label\"].tolist()\n",
    "len(train_docs)"
   ]
  },
  {
   "cell_type": "markdown",
   "metadata": {},
   "source": [
    "## GPU が利用できる場合は GPU を利用する\n"
   ]
  },
  {
   "cell_type": "code",
   "execution_count": 6,
   "metadata": {},
   "outputs": [
    {
     "data": {
      "text/plain": [
       "'cpu'"
      ]
     },
     "execution_count": 6,
     "metadata": {},
     "output_type": "execute_result"
    }
   ],
   "source": [
    "device = \"cuda:0\" if torch.cuda.is_available() else \"cpu\"\n",
    "device"
   ]
  },
  {
   "cell_type": "markdown",
   "metadata": {},
   "source": [
    "## bert modelの実行"
   ]
  },
  {
   "cell_type": "code",
   "execution_count": 7,
   "metadata": {},
   "outputs": [
    {
     "name": "stderr",
     "output_type": "stream",
     "text": [
      "Some weights of the model checkpoint at cl-tohoku/bert-base-japanese-whole-word-masking were not used when initializing BertForSequenceClassification: ['cls.predictions.transform.LayerNorm.weight', 'cls.seq_relationship.bias', 'cls.predictions.transform.LayerNorm.bias', 'cls.predictions.transform.dense.bias', 'cls.predictions.transform.dense.weight', 'cls.seq_relationship.weight', 'cls.predictions.decoder.weight', 'cls.predictions.bias']\n",
      "- This IS expected if you are initializing BertForSequenceClassification from the checkpoint of a model trained on another task or with another architecture (e.g. initializing a BertForSequenceClassification model from a BertForPreTraining model).\n",
      "- This IS NOT expected if you are initializing BertForSequenceClassification from the checkpoint of a model that you expect to be exactly identical (initializing a BertForSequenceClassification model from a BertForSequenceClassification model).\n",
      "Some weights of BertForSequenceClassification were not initialized from the model checkpoint at cl-tohoku/bert-base-japanese-whole-word-masking and are newly initialized: ['classifier.bias', 'classifier.weight']\n",
      "You should probably TRAIN this model on a down-stream task to be able to use it for predictions and inference.\n",
      "The tokenizer class you load from this checkpoint is not the same type as the class this function is called from. It may result in unexpected tokenization. \n",
      "The tokenizer class you load from this checkpoint is 'BertJapaneseTokenizer'. \n",
      "The class this function is called from is 'BertTokenizer'.\n"
     ]
    }
   ],
   "source": [
    "model_name = \"cl-tohoku/bert-base-japanese-whole-word-masking\"\n",
    "# model_name = \"cl-tohoku/bert-base-japanese-v2\"\n",
    "\n",
    "model = BertForSequenceClassification.from_pretrained(model_name, num_labels=2,output_hidden_states=True, output_attentions=True)\n",
    "model = model.to(device)\n",
    "tokenizer = BertTokenizer.from_pretrained(model_name)"
   ]
  },
  {
   "cell_type": "markdown",
   "metadata": {},
   "source": [
    "### 分かち書き"
   ]
  },
  {
   "cell_type": "code",
   "execution_count": 8,
   "metadata": {},
   "outputs": [],
   "source": [
    "train_encodings = tokenizer(train_docs, return_tensors='pt', padding=True, truncation=True, max_length=80).to(device)\n",
    "test_encodings = tokenizer(test_docs, return_tensors='pt', padding=True, truncation=True, max_length=80).to(device)"
   ]
  },
  {
   "cell_type": "markdown",
   "metadata": {},
   "source": [
    "### ID化用の関数定義"
   ]
  },
  {
   "cell_type": "code",
   "execution_count": 9,
   "metadata": {},
   "outputs": [],
   "source": [
    "class JpSentiDataset(torch.utils.data.Dataset):\n",
    "    def __init__(self, encodings, labels):\n",
    "        self.encodings = encodings\n",
    "        self.labels = labels\n",
    "\n",
    "    def __getitem__(self, idx):\n",
    "        item = {key: torch.tensor(val[idx]) for key, val in self.encodings.items()}\n",
    "        item['labels'] = torch.tensor(self.labels[idx])\n",
    "        return item\n",
    "\n",
    "    def __len__(self):\n",
    "        return len(self.labels)\n",
    "\n",
    "train_dataset = JpSentiDataset(train_encodings, train_labels)\n",
    "test_dataset = JpSentiDataset(test_encodings, test_labels)"
   ]
  },
  {
   "cell_type": "markdown",
   "metadata": {},
   "source": [
    "### 評価用の関数定義"
   ]
  },
  {
   "cell_type": "code",
   "execution_count": 10,
   "metadata": {},
   "outputs": [],
   "source": [
    "def compute_metrics(pred):\n",
    "    labels = pred.label_ids\n",
    "    preds = pred.predictions[0].argmax(-1)\n",
    "    precision, recall, f1, _ = precision_recall_fscore_support(labels, preds, average='weighted', zero_division=0)\n",
    "    acc = accuracy_score(labels, preds)\n",
    "    return {\n",
    "        'accuracy': acc,\n",
    "        'f1': f1,\n",
    "        'precision': precision,\n",
    "        'recall': recall\n",
    "    }"
   ]
  },
  {
   "cell_type": "markdown",
   "metadata": {},
   "source": [
    "### bertの実行"
   ]
  },
  {
   "cell_type": "code",
   "execution_count": 11,
   "metadata": {},
   "outputs": [
    {
     "name": "stderr",
     "output_type": "stream",
     "text": [
      "***** Running training *****\n",
      "  Num examples = 75\n",
      "  Num Epochs = 1\n",
      "  Instantaneous batch size per device = 16\n",
      "  Total train batch size (w. parallel, distributed & accumulation) = 16\n",
      "  Gradient Accumulation steps = 1\n",
      "  Total optimization steps = 5\n",
      "/tmp/ipykernel_26061/2036058153.py:7: UserWarning: To copy construct from a tensor, it is recommended to use sourceTensor.clone().detach() or sourceTensor.clone().detach().requires_grad_(True), rather than torch.tensor(sourceTensor).\n",
      "  item = {key: torch.tensor(val[idx]) for key, val in self.encodings.items()}\n"
     ]
    },
    {
     "data": {
      "text/html": [
       "\n",
       "    <div>\n",
       "      \n",
       "      <progress value='5' max='5' style='width:300px; height:20px; vertical-align: middle;'></progress>\n",
       "      [5/5 00:10, Epoch 1/1]\n",
       "    </div>\n",
       "    <table border=\"1\" class=\"dataframe\">\n",
       "  <thead>\n",
       "    <tr style=\"text-align: left;\">\n",
       "      <th>Step</th>\n",
       "      <th>Training Loss</th>\n",
       "      <th>Validation Loss</th>\n",
       "    </tr>\n",
       "  </thead>\n",
       "  <tbody>\n",
       "  </tbody>\n",
       "</table><p>"
      ],
      "text/plain": [
       "<IPython.core.display.HTML object>"
      ]
     },
     "metadata": {},
     "output_type": "display_data"
    },
    {
     "name": "stderr",
     "output_type": "stream",
     "text": [
      "\n",
      "\n",
      "Training completed. Do not forget to share your model on huggingface.co/models =)\n",
      "\n",
      "\n"
     ]
    },
    {
     "data": {
      "text/plain": [
       "TrainOutput(global_step=5, training_loss=0.7453908920288086, metrics={'train_runtime': 14.3255, 'train_samples_per_second': 5.235, 'train_steps_per_second': 0.349, 'total_flos': 3083332680000.0, 'train_loss': 0.7453908920288086, 'epoch': 1.0})"
      ]
     },
     "execution_count": 11,
     "metadata": {},
     "output_type": "execute_result"
    }
   ],
   "source": [
    "training_args = TrainingArguments(\n",
    "    output_dir='./results',          # output directory\n",
    "    num_train_epochs=1,              # total number of training epochs\n",
    "    per_device_train_batch_size=16,  # batch size per device during training\n",
    "    per_device_eval_batch_size=16,   # batch size for evaluation\n",
    "    warmup_steps=500,                # number of warmup steps for learning rate scheduler\n",
    "    weight_decay=0.01,               # strength of weight decay\n",
    "    save_total_limit=1,              # limit the total amount of checkpoints. Deletes the older checkpoints.\n",
    "    dataloader_pin_memory=False,  # Whether you want to pin memory in data loaders or not. Will default to True\n",
    "    # evaluation_strategy=\"epoch\",     # Evaluation is done at the end of each epoch.\n",
    "    evaluation_strategy=\"steps\",\n",
    "    logging_steps=2500,\n",
    "    logging_dir='./logs'\n",
    ")\n",
    "\n",
    "trainer = Trainer(\n",
    "    model=model,                         # the instantiated 🤗 Transformers model to be trained\n",
    "    args=training_args,                  # training arguments, defined above\n",
    "    train_dataset=train_dataset,         # training dataset\n",
    "    eval_dataset=test_dataset,             # evaluation dataset\n",
    "    compute_metrics=compute_metrics  # The function that will be used to compute metrics at evaluation\n",
    ")\n",
    "\n",
    "trainer.train()"
   ]
  },
  {
   "cell_type": "markdown",
   "metadata": {},
   "source": [
    "### モデルの評価"
   ]
  },
  {
   "cell_type": "code",
   "execution_count": 12,
   "metadata": {},
   "outputs": [
    {
     "name": "stderr",
     "output_type": "stream",
     "text": [
      "***** Running Evaluation *****\n",
      "  Num examples = 25\n",
      "  Batch size = 16\n",
      "/tmp/ipykernel_26061/2036058153.py:7: UserWarning: To copy construct from a tensor, it is recommended to use sourceTensor.clone().detach() or sourceTensor.clone().detach().requires_grad_(True), rather than torch.tensor(sourceTensor).\n",
      "  item = {key: torch.tensor(val[idx]) for key, val in self.encodings.items()}\n"
     ]
    },
    {
     "data": {
      "text/html": [
       "\n",
       "    <div>\n",
       "      \n",
       "      <progress value='2' max='2' style='width:300px; height:20px; vertical-align: middle;'></progress>\n",
       "      [2/2 00:00]\n",
       "    </div>\n",
       "    "
      ],
      "text/plain": [
       "<IPython.core.display.HTML object>"
      ]
     },
     "metadata": {},
     "output_type": "display_data"
    },
    {
     "data": {
      "text/plain": [
       "{'eval_loss': 0.7266618609428406,\n",
       " 'eval_accuracy': 0.36,\n",
       " 'eval_f1': 0.3476923076923077,\n",
       " 'eval_precision': 0.5536842105263158,\n",
       " 'eval_recall': 0.36,\n",
       " 'eval_runtime': 1.0002,\n",
       " 'eval_samples_per_second': 24.996,\n",
       " 'eval_steps_per_second': 2.0,\n",
       " 'epoch': 1.0}"
      ]
     },
     "execution_count": 12,
     "metadata": {},
     "output_type": "execute_result"
    }
   ],
   "source": [
    "trainer.evaluate(eval_dataset=test_dataset)"
   ]
  },
  {
   "cell_type": "code",
   "execution_count": 13,
   "metadata": {},
   "outputs": [
    {
     "name": "stderr",
     "output_type": "stream",
     "text": [
      "loading configuration file https://huggingface.co/cl-tohoku/bert-base-japanese-whole-word-masking/resolve/main/config.json from cache at /home/yuuuuutaro/.cache/huggingface/transformers/573af37b6c39d672f2df687c06ad7d556476cbe43e5bf7771097187c45a3e7bf.abeb707b5d79387dd462e8bfb724637d856e98434b6931c769b8716c6f287258\n",
      "Model config BertConfig {\n",
      "  \"architectures\": [\n",
      "    \"BertForMaskedLM\"\n",
      "  ],\n",
      "  \"attention_probs_dropout_prob\": 0.1,\n",
      "  \"classifier_dropout\": null,\n",
      "  \"hidden_act\": \"gelu\",\n",
      "  \"hidden_dropout_prob\": 0.1,\n",
      "  \"hidden_size\": 768,\n",
      "  \"initializer_range\": 0.02,\n",
      "  \"intermediate_size\": 3072,\n",
      "  \"layer_norm_eps\": 1e-12,\n",
      "  \"max_position_embeddings\": 512,\n",
      "  \"model_type\": \"bert\",\n",
      "  \"num_attention_heads\": 12,\n",
      "  \"num_hidden_layers\": 12,\n",
      "  \"pad_token_id\": 0,\n",
      "  \"position_embedding_type\": \"absolute\",\n",
      "  \"tokenizer_class\": \"BertJapaneseTokenizer\",\n",
      "  \"transformers_version\": \"4.11.3\",\n",
      "  \"type_vocab_size\": 2,\n",
      "  \"use_cache\": true,\n",
      "  \"vocab_size\": 32000\n",
      "}\n",
      "\n",
      "loading file https://huggingface.co/cl-tohoku/bert-base-japanese-whole-word-masking/resolve/main/vocab.txt from cache at /home/yuuuuutaro/.cache/huggingface/transformers/15164357d71cd32532e56c1d7c2757141326ae17c53e2277bc417cc7c21da6ea.a7378a0cbee5cff668832a776d72b97a25479604fe9564d5595897f75049e7f4\n",
      "loading file https://huggingface.co/cl-tohoku/bert-base-japanese-whole-word-masking/resolve/main/added_tokens.json from cache at None\n",
      "loading file https://huggingface.co/cl-tohoku/bert-base-japanese-whole-word-masking/resolve/main/special_tokens_map.json from cache at None\n",
      "loading file https://huggingface.co/cl-tohoku/bert-base-japanese-whole-word-masking/resolve/main/tokenizer_config.json from cache at /home/yuuuuutaro/.cache/huggingface/transformers/0e46f722799f19c3f0c53172545108a4b31847d3b9a2d5b100759f6673bd667b.08ae4e4044742b9cc7172698caf1da2524f5597ff8cf848114dd0b730cc44bdc\n",
      "loading file https://huggingface.co/cl-tohoku/bert-base-japanese-whole-word-masking/resolve/main/tokenizer.json from cache at None\n",
      "loading configuration file https://huggingface.co/cl-tohoku/bert-base-japanese-whole-word-masking/resolve/main/config.json from cache at /home/yuuuuutaro/.cache/huggingface/transformers/573af37b6c39d672f2df687c06ad7d556476cbe43e5bf7771097187c45a3e7bf.abeb707b5d79387dd462e8bfb724637d856e98434b6931c769b8716c6f287258\n",
      "Model config BertConfig {\n",
      "  \"architectures\": [\n",
      "    \"BertForMaskedLM\"\n",
      "  ],\n",
      "  \"attention_probs_dropout_prob\": 0.1,\n",
      "  \"classifier_dropout\": null,\n",
      "  \"hidden_act\": \"gelu\",\n",
      "  \"hidden_dropout_prob\": 0.1,\n",
      "  \"hidden_size\": 768,\n",
      "  \"initializer_range\": 0.02,\n",
      "  \"intermediate_size\": 3072,\n",
      "  \"layer_norm_eps\": 1e-12,\n",
      "  \"max_position_embeddings\": 512,\n",
      "  \"model_type\": \"bert\",\n",
      "  \"num_attention_heads\": 12,\n",
      "  \"num_hidden_layers\": 12,\n",
      "  \"pad_token_id\": 0,\n",
      "  \"position_embedding_type\": \"absolute\",\n",
      "  \"tokenizer_class\": \"BertJapaneseTokenizer\",\n",
      "  \"transformers_version\": \"4.11.3\",\n",
      "  \"type_vocab_size\": 2,\n",
      "  \"use_cache\": true,\n",
      "  \"vocab_size\": 32000\n",
      "}\n",
      "\n"
     ]
    }
   ],
   "source": [
    "from transformers import pipeline\n",
    "torikizoku_analyzer = pipeline(\"sentiment-analysis\", model=model.to(\"cpu\"), tokenizer=model_name)"
   ]
  },
  {
   "cell_type": "code",
   "execution_count": 14,
   "metadata": {},
   "outputs": [
    {
     "data": {
      "text/plain": [
       "'LABEL_1'"
      ]
     },
     "execution_count": 14,
     "metadata": {},
     "output_type": "execute_result"
    }
   ],
   "source": [
    "torikizoku_analyzer(df[\"tweet\"][5669])[0][\"label\"]"
   ]
  },
  {
   "cell_type": "code",
   "execution_count": 15,
   "metadata": {},
   "outputs": [],
   "source": [
    "# HTMLを作成する関数を実装\n",
    "def highlight(word, attn):\n",
    "    html_color = '#%02X%02X%02X' % (\n",
    "        255, int(255*(1 - attn)), int(255*(1 - attn)))\n",
    "    return '<span style=\"background-color: {}\"> {}</span>'.format(html_color, word)\n",
    "\n",
    "def mk_html(index):\n",
    "    inputs = tokenizer(df[\"tweet\"][index], return_tensors=\"pt\")\n",
    "    labels = torch.tensor([df[\"label\"][index]]).unsqueeze(0)  # Batch size 1\n",
    "    outputs = model(**inputs, labels=labels)\n",
    "\n",
    "\n",
    "    # indexの結果を抽出\n",
    "    sentence = [int(i) for i in list(inputs[\"input_ids\"][0])]  # 文章\n",
    "    label = df[\"label\"][index]  # ラベル\n",
    "    pred = torikizoku_analyzer(df[\"tweet\"][index])[0][\"label\"]  # 予測\n",
    "\n",
    "    # ラベルと予測結果を文字に置き換え\n",
    "    if label == 0:\n",
    "        label_str = \"Negative\"\n",
    "    else:\n",
    "        label_str = \"Positive\"\n",
    "\n",
    "    if pred == \"LABEL_0\":\n",
    "        pred_str = \"Negative\"\n",
    "    else:\n",
    "        pred_str = \"Positive\"\n",
    "\n",
    "    # 表示用のHTMLを作成する\n",
    "    html = '正解ラベル：{}<br>推論ラベル：{}<br><br>'.format(label_str, pred_str)\n",
    "    attention=[]\n",
    "    for i in outputs.attentions[11][0]:\n",
    "        attention.append([float(j) for j in i[0]])\n",
    "\n",
    "    # Self-Attentionの重みを可視化。Multi-Headが12個なので、12種類のアテンションが存在\n",
    "    for i in range(12):\n",
    "        attens = [j/max(attention[i]) for j in attention[i]]\n",
    "        html += '[BERTのAttentionを可視化_' + str(i+1) + ']<br>'\n",
    "        for word, attn in zip(sentence, attens):\n",
    "\n",
    "            # 単語が[SEP]の場合は文章が終わりなのでbreak\n",
    "            if tokenizer.convert_ids_to_tokens([word])[0] == \"[SEP]\":\n",
    "                break\n",
    "\n",
    "            # 関数highlightで色をつける、関数tokenizer_bert.convert_ids_to_tokensでIDを単語に戻す\n",
    "            html += highlight(tokenizer.convert_ids_to_tokens([word])[0], attn)\n",
    "        html += \"<br><br>\"\n",
    "\n",
    "    # 12種類のAttentionの平均を求める。最大値で規格化\n",
    "    all_attens = []  # all_attensという変数を作成する\n",
    "    for i in range(12):\n",
    "        all_attens += attention[i]\n",
    "    all_attens = [i/max(all_attens) for i in all_attens]\n",
    "\n",
    "\n",
    "    html += '[BERTのAttentionを可視化_ALL]<br>'\n",
    "    for word, attn in zip(sentence, all_attens):\n",
    "\n",
    "        # 単語が[SEP]の場合は文章が終わりなのでbreak\n",
    "        if tokenizer.convert_ids_to_tokens([word])[0] == \"[SEP]\":\n",
    "            break\n",
    "\n",
    "        # 関数highlightで色をつける、関数tokenizer_bert.convert_ids_to_tokensでIDを単語に戻す\n",
    "        html += highlight(tokenizer.convert_ids_to_tokens([word])[0], attn)\n",
    "    html += \"<br><br>\"\n",
    "\n",
    "    return html"
   ]
  },
  {
   "cell_type": "code",
   "execution_count": 16,
   "metadata": {},
   "outputs": [
    {
     "data": {
      "text/html": [
       "正解ラベル：Negative<br>推論ラベル：Positive<br><br>[BERTのAttentionを可視化_1]<br><span style=\"background-color: #FFD4D4\"> [CLS]</span><span style=\"background-color: #FFF8F8\"> 鳥</span><span style=\"background-color: #FFF8F8\"> 貴</span><span style=\"background-color: #FFC3C3\"> 族</span><span style=\"background-color: #FF5A5A\"> の</span><span style=\"background-color: #FFE9E9\"> ##1</span><span style=\"background-color: #FF8B8B\"> 番</span><span style=\"background-color: #FFE4E4\"> 美</span><span style=\"background-color: #FFE3E3\"> 味</span><span style=\"background-color: #FFFAFA\"> い</span><span style=\"background-color: #FFF9F9\"> ##メニ</span><span style=\"background-color: #FFF7F7\"> ##ュー</span><span style=\"background-color: #FFDBDB\"> ##は</span><span style=\"background-color: #FFF0F0\"> ##ミックス</span><span style=\"background-color: #FFF7F7\"> ##ジュー</span><span style=\"background-color: #FFF1F1\"> ##ス</span><span style=\"background-color: #FF6767\"> 。</span><span style=\"background-color: #FFE6E6\"> 異</span><span style=\"background-color: #FFE4E4\"> 論</span><span style=\"background-color: #FFF4F4\"> は</span><span style=\"background-color: #FFDADA\"> 認</span><span style=\"background-color: #FFF7F7\"> め</span><span style=\"background-color: #FFF3F3\"> ##ない</span><span style=\"background-color: #FFB8B8\"> 。</span><span style=\"background-color: #FFC4C4\"> 2</span><span style=\"background-color: #FF4343\"> 番</span><span style=\"background-color: #FFBFBF\"> 目</span><span style=\"background-color: #FFDFDF\"> は</span><span style=\"background-color: #FFFDFD\"> 山</span><span style=\"background-color: #FFFBFB\"> 芋</span><span style=\"background-color: #FFF2F2\"> の</span><span style=\"background-color: #FFFDFD\"> 鉄</span><span style=\"background-color: #FFFDFD\"> 板</span><span style=\"background-color: #FFDCDC\"> 焼</span><span style=\"background-color: #FF7979\"> 。</span><span style=\"background-color: #FFCFCF\"> 異</span><span style=\"background-color: #FFDBDB\"> 論</span><span style=\"background-color: #FFD0D0\"> は</span><span style=\"background-color: #FF9B9B\"> 認</span><span style=\"background-color: #FFEEEE\"> め</span><span style=\"background-color: #FFD2D2\"> ##る</span><span style=\"background-color: #FF0000\"> 。</span><br><br>[BERTのAttentionを可視化_2]<br><span style=\"background-color: #FFC9C9\"> [CLS]</span><span style=\"background-color: #FFFBFB\"> 鳥</span><span style=\"background-color: #FFFBFB\"> 貴</span><span style=\"background-color: #FFECEC\"> 族</span><span style=\"background-color: #FFEDED\"> の</span><span style=\"background-color: #FFF1F1\"> ##1</span><span style=\"background-color: #FFDDDD\"> 番</span><span style=\"background-color: #FFF1F1\"> 美</span><span style=\"background-color: #FFFAFA\"> 味</span><span style=\"background-color: #FFFDFD\"> い</span><span style=\"background-color: #FFFCFC\"> ##メニ</span><span style=\"background-color: #FFFAFA\"> ##ュー</span><span style=\"background-color: #FFEEEE\"> ##は</span><span style=\"background-color: #FFFBFB\"> ##ミックス</span><span style=\"background-color: #FFFAFA\"> ##ジュー</span><span style=\"background-color: #FFFCFC\"> ##ス</span><span style=\"background-color: #FFE6E6\"> 。</span><span style=\"background-color: #FFF9F9\"> 異</span><span style=\"background-color: #FFF9F9\"> 論</span><span style=\"background-color: #FFFCFC\"> は</span><span style=\"background-color: #FFF4F4\"> 認</span><span style=\"background-color: #FFFDFD\"> め</span><span style=\"background-color: #FFFBFB\"> ##ない</span><span style=\"background-color: #FFF7F7\"> 。</span><span style=\"background-color: #FF6F6F\"> 2</span><span style=\"background-color: #FFDADA\"> 番</span><span style=\"background-color: #FFF5F5\"> 目</span><span style=\"background-color: #FFFAFA\"> は</span><span style=\"background-color: #FFFEFE\"> 山</span><span style=\"background-color: #FFFCFC\"> 芋</span><span style=\"background-color: #FFFCFC\"> の</span><span style=\"background-color: #FFFEFE\"> 鉄</span><span style=\"background-color: #FFFEFE\"> 板</span><span style=\"background-color: #FFF9F9\"> 焼</span><span style=\"background-color: #FFEFEF\"> 。</span><span style=\"background-color: #FFF6F6\"> 異</span><span style=\"background-color: #FFF5F5\"> 論</span><span style=\"background-color: #FFFAFA\"> は</span><span style=\"background-color: #FFF1F1\"> 認</span><span style=\"background-color: #FFFCFC\"> め</span><span style=\"background-color: #FFF6F6\"> ##る</span><span style=\"background-color: #FFEAEA\"> 。</span><br><br>[BERTのAttentionを可視化_3]<br><span style=\"background-color: #FFFAFA\"> [CLS]</span><span style=\"background-color: #FFEDED\"> 鳥</span><span style=\"background-color: #FFF5F5\"> 貴</span><span style=\"background-color: #FFF5F5\"> 族</span><span style=\"background-color: #FFA0A0\"> の</span><span style=\"background-color: #FFD7D7\"> ##1</span><span style=\"background-color: #FFDFDF\"> 番</span><span style=\"background-color: #FFF9F9\"> 美</span><span style=\"background-color: #FFFBFB\"> 味</span><span style=\"background-color: #FFFCFC\"> い</span><span style=\"background-color: #FFFEFE\"> ##メニ</span><span style=\"background-color: #FFFEFE\"> ##ュー</span><span style=\"background-color: #FFF6F6\"> ##は</span><span style=\"background-color: #FFF8F8\"> ##ミックス</span><span style=\"background-color: #FFFDFD\"> ##ジュー</span><span style=\"background-color: #FFFDFD\"> ##ス</span><span style=\"background-color: #FF0000\"> 。</span><span style=\"background-color: #FFFBFB\"> 異</span><span style=\"background-color: #FFFCFC\"> 論</span><span style=\"background-color: #FFF7F7\"> は</span><span style=\"background-color: #FFFEFE\"> 認</span><span style=\"background-color: #FFFEFE\"> め</span><span style=\"background-color: #FFFEFE\"> ##ない</span><span style=\"background-color: #FFB8B8\"> 。</span><span style=\"background-color: #FFFAFA\"> 2</span><span style=\"background-color: #FFFAFA\"> 番</span><span style=\"background-color: #FFFEFE\"> 目</span><span style=\"background-color: #FFEAEA\"> は</span><span style=\"background-color: #FFFBFB\"> 山</span><span style=\"background-color: #FFFEFE\"> 芋</span><span style=\"background-color: #FFF8F8\"> の</span><span style=\"background-color: #FFFDFD\"> 鉄</span><span style=\"background-color: #FFFEFE\"> 板</span><span style=\"background-color: #FFFDFD\"> 焼</span><span style=\"background-color: #FF1B1B\"> 。</span><span style=\"background-color: #FFFCFC\"> 異</span><span style=\"background-color: #FFFDFD\"> 論</span><span style=\"background-color: #FFF7F7\"> は</span><span style=\"background-color: #FFFEFE\"> 認</span><span style=\"background-color: #FFFEFE\"> め</span><span style=\"background-color: #FFFEFE\"> ##る</span><span style=\"background-color: #FFC8C8\"> 。</span><br><br>[BERTのAttentionを可視化_4]<br><span style=\"background-color: #FFF9F9\"> [CLS]</span><span style=\"background-color: #FFFDFD\"> 鳥</span><span style=\"background-color: #FFFEFE\"> 貴</span><span style=\"background-color: #FFE0E0\"> 族</span><span style=\"background-color: #FFD9D9\"> の</span><span style=\"background-color: #FFFEFE\"> ##1</span><span style=\"background-color: #FFC8C8\"> 番</span><span style=\"background-color: #FFF1F1\"> 美</span><span style=\"background-color: #FFFBFB\"> 味</span><span style=\"background-color: #FFFEFE\"> い</span><span style=\"background-color: #FFFDFD\"> ##メニ</span><span style=\"background-color: #FFF5F5\"> ##ュー</span><span style=\"background-color: #FFF0F0\"> ##は</span><span style=\"background-color: #FFF9F9\"> ##ミックス</span><span style=\"background-color: #FFFBFB\"> ##ジュー</span><span style=\"background-color: #FFFCFC\"> ##ス</span><span style=\"background-color: #FFA8A8\"> 。</span><span style=\"background-color: #FFFBFB\"> 異</span><span style=\"background-color: #FFFAFA\"> 論</span><span style=\"background-color: #FFFDFD\"> は</span><span style=\"background-color: #FFFBFB\"> 認</span><span style=\"background-color: #FFFEFE\"> め</span><span style=\"background-color: #FFFBFB\"> ##ない</span><span style=\"background-color: #FFE3E3\"> 。</span><span style=\"background-color: #FFF9F9\"> 2</span><span style=\"background-color: #FFD1D1\"> 番</span><span style=\"background-color: #FF0000\"> 目</span><span style=\"background-color: #FFC3C3\"> は</span><span style=\"background-color: #FFFEFE\"> 山</span><span style=\"background-color: #FFFBFB\"> 芋</span><span style=\"background-color: #FFFAFA\"> の</span><span style=\"background-color: #FFFEFE\"> 鉄</span><span style=\"background-color: #FFFEFE\"> 板</span><span style=\"background-color: #FFF3F3\"> 焼</span><span style=\"background-color: #FFD5D5\"> 。</span><span style=\"background-color: #FFFAFA\"> 異</span><span style=\"background-color: #FFFDFD\"> 論</span><span style=\"background-color: #FFFEFE\"> は</span><span style=\"background-color: #FFFCFC\"> 認</span><span style=\"background-color: #FFFEFE\"> め</span><span style=\"background-color: #FFFDFD\"> ##る</span><span style=\"background-color: #FFF0F0\"> 。</span><br><br>[BERTのAttentionを可視化_5]<br><span style=\"background-color: #FF9E9E\"> [CLS]</span><span style=\"background-color: #FFFCFC\"> 鳥</span><span style=\"background-color: #FFFDFD\"> 貴</span><span style=\"background-color: #FFE9E9\"> 族</span><span style=\"background-color: #FFAEAE\"> の</span><span style=\"background-color: #FFCFCF\"> ##1</span><span style=\"background-color: #FFAEAE\"> 番</span><span style=\"background-color: #FFD8D8\"> 美</span><span style=\"background-color: #FFF2F2\"> 味</span><span style=\"background-color: #FFFDFD\"> い</span><span style=\"background-color: #FFFCFC\"> ##メニ</span><span style=\"background-color: #FFFBFB\"> ##ュー</span><span style=\"background-color: #FFECEC\"> ##は</span><span style=\"background-color: #FFECEC\"> ##ミックス</span><span style=\"background-color: #FFF9F9\"> ##ジュー</span><span style=\"background-color: #FFFAFA\"> ##ス</span><span style=\"background-color: #FFA7A7\"> 。</span><span style=\"background-color: #FFF5F5\"> 異</span><span style=\"background-color: #FFF5F5\"> 論</span><span style=\"background-color: #FFF5F5\"> は</span><span style=\"background-color: #FFE0E0\"> 認</span><span style=\"background-color: #FFF4F4\"> め</span><span style=\"background-color: #FFD6D6\"> ##ない</span><span style=\"background-color: #FFB9B9\"> 。</span><span style=\"background-color: #FFCFCF\"> 2</span><span style=\"background-color: #FF0000\"> 番</span><span style=\"background-color: #FF6D6D\"> 目</span><span style=\"background-color: #FFD9D9\"> は</span><span style=\"background-color: #FFFDFD\"> 山</span><span style=\"background-color: #FFFDFD\"> 芋</span><span style=\"background-color: #FFFAFA\"> の</span><span style=\"background-color: #FFFEFE\"> 鉄</span><span style=\"background-color: #FFFEFE\"> 板</span><span style=\"background-color: #FFF5F5\"> 焼</span><span style=\"background-color: #FFBBBB\"> 。</span><span style=\"background-color: #FFE7E7\"> 異</span><span style=\"background-color: #FFEFEF\"> 論</span><span style=\"background-color: #FFDBDB\"> は</span><span style=\"background-color: #FFC1C1\"> 認</span><span style=\"background-color: #FFF6F6\"> め</span><span style=\"background-color: #FFD6D6\"> ##る</span><span style=\"background-color: #FF4040\"> 。</span><br><br>[BERTのAttentionを可視化_6]<br><span style=\"background-color: #FFC6C6\"> [CLS]</span><span style=\"background-color: #FFFAFA\"> 鳥</span><span style=\"background-color: #FFF7F7\"> 貴</span><span style=\"background-color: #FFEDED\"> 族</span><span style=\"background-color: #FFEAEA\"> の</span><span style=\"background-color: #FFD3D3\"> ##1</span><span style=\"background-color: #FFF7F7\"> 番</span><span style=\"background-color: #FFF3F3\"> 美</span><span style=\"background-color: #FFF7F7\"> 味</span><span style=\"background-color: #FFF3F3\"> い</span><span style=\"background-color: #FFECEC\"> ##メニ</span><span style=\"background-color: #FFE8E8\"> ##ュー</span><span style=\"background-color: #FFE9E9\"> ##は</span><span style=\"background-color: #FFF0F0\"> ##ミックス</span><span style=\"background-color: #FFC3C3\"> ##ジュー</span><span style=\"background-color: #FFE5E5\"> ##ス</span><span style=\"background-color: #FFD6D6\"> 。</span><span style=\"background-color: #FFF4F4\"> 異</span><span style=\"background-color: #FFFDFD\"> 論</span><span style=\"background-color: #FFFCFC\"> は</span><span style=\"background-color: #FFFEFE\"> 認</span><span style=\"background-color: #FFFAFA\"> め</span><span style=\"background-color: #FFE9E9\"> ##ない</span><span style=\"background-color: #FFCECE\"> 。</span><span style=\"background-color: #FFF8F8\"> 2</span><span style=\"background-color: #FFB6B6\"> 番</span><span style=\"background-color: #FFF5F5\"> 目</span><span style=\"background-color: #FFFAFA\"> は</span><span style=\"background-color: #FFF9F9\"> 山</span><span style=\"background-color: #FFFDFD\"> 芋</span><span style=\"background-color: #FFE2E2\"> の</span><span style=\"background-color: #FFFEFE\"> 鉄</span><span style=\"background-color: #FFFCFC\"> 板</span><span style=\"background-color: #FFF5F5\"> 焼</span><span style=\"background-color: #FFEBEB\"> 。</span><span style=\"background-color: #FFF4F4\"> 異</span><span style=\"background-color: #FFFDFD\"> 論</span><span style=\"background-color: #FFFBFB\"> は</span><span style=\"background-color: #FFFEFE\"> 認</span><span style=\"background-color: #FFFBFB\"> め</span><span style=\"background-color: #FFCCCC\"> ##る</span><span style=\"background-color: #FF8A8A\"> 。</span><br><br>[BERTのAttentionを可視化_7]<br><span style=\"background-color: #FFE4E4\"> [CLS]</span><span style=\"background-color: #FFFDFD\"> 鳥</span><span style=\"background-color: #FFFEFE\"> 貴</span><span style=\"background-color: #FFF0F0\"> 族</span><span style=\"background-color: #FFDCDC\"> の</span><span style=\"background-color: #FFFBFB\"> ##1</span><span style=\"background-color: #FFE7E7\"> 番</span><span style=\"background-color: #FFF5F5\"> 美</span><span style=\"background-color: #FFFEFE\"> 味</span><span style=\"background-color: #FFFDFD\"> い</span><span style=\"background-color: #FFFEFE\"> ##メニ</span><span style=\"background-color: #FFFBFB\"> ##ュー</span><span style=\"background-color: #FFEBEB\"> ##は</span><span style=\"background-color: #FFF9F9\"> ##ミックス</span><span style=\"background-color: #FFFDFD\"> ##ジュー</span><span style=\"background-color: #FFF9F9\"> ##ス</span><span style=\"background-color: #FF0000\"> 。</span><span style=\"background-color: #FFFBFB\"> 異</span><span style=\"background-color: #FFFCFC\"> 論</span><span style=\"background-color: #FFFDFD\"> は</span><span style=\"background-color: #FFF8F8\"> 認</span><span style=\"background-color: #FFFDFD\"> め</span><span style=\"background-color: #FFF2F2\"> ##ない</span><span style=\"background-color: #FFEFEF\"> 。</span><span style=\"background-color: #FFF0F0\"> 2</span><span style=\"background-color: #FFF2F2\"> 番</span><span style=\"background-color: #FFF7F7\"> 目</span><span style=\"background-color: #FFFDFD\"> は</span><span style=\"background-color: #FFFEFE\"> 山</span><span style=\"background-color: #FFFEFE\"> 芋</span><span style=\"background-color: #FFFEFE\"> の</span><span style=\"background-color: #FFFEFE\"> 鉄</span><span style=\"background-color: #FFFEFE\"> 板</span><span style=\"background-color: #FFF8F8\"> 焼</span><span style=\"background-color: #FFCECE\"> 。</span><span style=\"background-color: #FFFAFA\"> 異</span><span style=\"background-color: #FFFBFB\"> 論</span><span style=\"background-color: #FFFCFC\"> は</span><span style=\"background-color: #FFF9F9\"> 認</span><span style=\"background-color: #FFFCFC\"> め</span><span style=\"background-color: #FFF5F5\"> ##る</span><span style=\"background-color: #FFB6B6\"> 。</span><br><br>[BERTのAttentionを可視化_8]<br><span style=\"background-color: #FFCCCC\"> [CLS]</span><span style=\"background-color: #FFFBFB\"> 鳥</span><span style=\"background-color: #FFFAFA\"> 貴</span><span style=\"background-color: #FFBEBE\"> 族</span><span style=\"background-color: #FFBFBF\"> の</span><span style=\"background-color: #FFB8B8\"> ##1</span><span style=\"background-color: #FFD7D7\"> 番</span><span style=\"background-color: #FFE3E3\"> 美</span><span style=\"background-color: #FFF9F9\"> 味</span><span style=\"background-color: #FFFAFA\"> い</span><span style=\"background-color: #FFF7F7\"> ##メニ</span><span style=\"background-color: #FFE0E0\"> ##ュー</span><span style=\"background-color: #FFCECE\"> ##は</span><span style=\"background-color: #FFF6F6\"> ##ミックス</span><span style=\"background-color: #FFE9E9\"> ##ジュー</span><span style=\"background-color: #FFB3B3\"> ##ス</span><span style=\"background-color: #FF1313\"> 。</span><span style=\"background-color: #FFF5F5\"> 異</span><span style=\"background-color: #FFEBEB\"> 論</span><span style=\"background-color: #FFEDED\"> は</span><span style=\"background-color: #FFFBFB\"> 認</span><span style=\"background-color: #FFDADA\"> め</span><span style=\"background-color: #FF6868\"> ##ない</span><span style=\"background-color: #FF5D5D\"> 。</span><span style=\"background-color: #FFE4E4\"> 2</span><span style=\"background-color: #FF8181\"> 番</span><span style=\"background-color: #FFD7D7\"> 目</span><span style=\"background-color: #FFF8F8\"> は</span><span style=\"background-color: #FFFEFE\"> 山</span><span style=\"background-color: #FFFEFE\"> 芋</span><span style=\"background-color: #FFFAFA\"> の</span><span style=\"background-color: #FFFEFE\"> 鉄</span><span style=\"background-color: #FFFEFE\"> 板</span><span style=\"background-color: #FFE5E5\"> 焼</span><span style=\"background-color: #FF2B2B\"> 。</span><span style=\"background-color: #FFF5F5\"> 異</span><span style=\"background-color: #FFEFEF\"> 論</span><span style=\"background-color: #FFE1E1\"> は</span><span style=\"background-color: #FFFAFA\"> 認</span><span style=\"background-color: #FFEFEF\"> め</span><span style=\"background-color: #FF0000\"> ##る</span><span style=\"background-color: #FF0000\"> 。</span><br><br>[BERTのAttentionを可視化_9]<br><span style=\"background-color: #FF7171\"> [CLS]</span><span style=\"background-color: #FFD5D5\"> 鳥</span><span style=\"background-color: #FFF3F3\"> 貴</span><span style=\"background-color: #FF8787\"> 族</span><span style=\"background-color: #FFABAB\"> の</span><span style=\"background-color: #FFFDFD\"> ##1</span><span style=\"background-color: #FFD6D6\"> 番</span><span style=\"background-color: #FFF1F1\"> 美</span><span style=\"background-color: #FFE8E8\"> 味</span><span style=\"background-color: #FFE4E4\"> い</span><span style=\"background-color: #FFF5F5\"> ##メニ</span><span style=\"background-color: #FFD5D5\"> ##ュー</span><span style=\"background-color: #FFAFAF\"> ##は</span><span style=\"background-color: #FFF0F0\"> ##ミックス</span><span style=\"background-color: #FFF6F6\"> ##ジュー</span><span style=\"background-color: #FFB7B7\"> ##ス</span><span style=\"background-color: #FFC0C0\"> 。</span><span style=\"background-color: #FFE8E8\"> 異</span><span style=\"background-color: #FFDDDD\"> 論</span><span style=\"background-color: #FFF4F4\"> は</span><span style=\"background-color: #FFEFEF\"> 認</span><span style=\"background-color: #FFF9F9\"> め</span><span style=\"background-color: #FF6666\"> ##ない</span><span style=\"background-color: #FF3737\"> 。</span><span style=\"background-color: #FFC2C2\"> 2</span><span style=\"background-color: #FFF2F2\"> 番</span><span style=\"background-color: #FFB9B9\"> 目</span><span style=\"background-color: #FFB6B6\"> は</span><span style=\"background-color: #FFE6E6\"> 山</span><span style=\"background-color: #FFE9E9\"> 芋</span><span style=\"background-color: #FFF2F2\"> の</span><span style=\"background-color: #FFF3F3\"> 鉄</span><span style=\"background-color: #FFFDFD\"> 板</span><span style=\"background-color: #FFCACA\"> 焼</span><span style=\"background-color: #FFBABA\"> 。</span><span style=\"background-color: #FFEAEA\"> 異</span><span style=\"background-color: #FFE6E6\"> 論</span><span style=\"background-color: #FFF9F9\"> は</span><span style=\"background-color: #FFF2F2\"> 認</span><span style=\"background-color: #FFFBFB\"> め</span><span style=\"background-color: #FFB5B5\"> ##る</span><span style=\"background-color: #FF0000\"> 。</span><br><br>[BERTのAttentionを可視化_10]<br><span style=\"background-color: #FF9E9E\"> [CLS]</span><span style=\"background-color: #FFF5F5\"> 鳥</span><span style=\"background-color: #FFFBFB\"> 貴</span><span style=\"background-color: #FFD9D9\"> 族</span><span style=\"background-color: #FF0000\"> の</span><span style=\"background-color: #FFF5F5\"> ##1</span><span style=\"background-color: #FFEDED\"> 番</span><span style=\"background-color: #FFEFEF\"> 美</span><span style=\"background-color: #FFF1F1\"> 味</span><span style=\"background-color: #FFFBFB\"> い</span><span style=\"background-color: #FFFCFC\"> ##メニ</span><span style=\"background-color: #FFF5F5\"> ##ュー</span><span style=\"background-color: #FF7B7B\"> ##は</span><span style=\"background-color: #FFEFEF\"> ##ミックス</span><span style=\"background-color: #FFFDFD\"> ##ジュー</span><span style=\"background-color: #FFF2F2\"> ##ス</span><span style=\"background-color: #FF4040\"> 。</span><span style=\"background-color: #FFF6F6\"> 異</span><span style=\"background-color: #FFF8F8\"> 論</span><span style=\"background-color: #FFF5F5\"> は</span><span style=\"background-color: #FFFBFB\"> 認</span><span style=\"background-color: #FFFDFD\"> め</span><span style=\"background-color: #FFE2E2\"> ##ない</span><span style=\"background-color: #FFB0B0\"> 。</span><span style=\"background-color: #FFF5F5\"> 2</span><span style=\"background-color: #FFFDFD\"> 番</span><span style=\"background-color: #FFEDED\"> 目</span><span style=\"background-color: #FFC5C5\"> は</span><span style=\"background-color: #FFFBFB\"> 山</span><span style=\"background-color: #FFFDFD\"> 芋</span><span style=\"background-color: #FFF7F7\"> の</span><span style=\"background-color: #FFFDFD\"> 鉄</span><span style=\"background-color: #FFFEFE\"> 板</span><span style=\"background-color: #FFEEEE\"> 焼</span><span style=\"background-color: #FF8E8E\"> 。</span><span style=\"background-color: #FFF8F8\"> 異</span><span style=\"background-color: #FFFBFB\"> 論</span><span style=\"background-color: #FFFAFA\"> は</span><span style=\"background-color: #FFFCFC\"> 認</span><span style=\"background-color: #FFFEFE\"> め</span><span style=\"background-color: #FFF7F7\"> ##る</span><span style=\"background-color: #FF8C8C\"> 。</span><br><br>[BERTのAttentionを可視化_11]<br><span style=\"background-color: #FFE1E1\"> [CLS]</span><span style=\"background-color: #FFEFEF\"> 鳥</span><span style=\"background-color: #FFEBEB\"> 貴</span><span style=\"background-color: #FF0A0A\"> 族</span><span style=\"background-color: #FFC1C1\"> の</span><span style=\"background-color: #FFF2F2\"> ##1</span><span style=\"background-color: #FF9E9E\"> 番</span><span style=\"background-color: #FFBEBE\"> 美</span><span style=\"background-color: #FFB8B8\"> 味</span><span style=\"background-color: #FFF9F9\"> い</span><span style=\"background-color: #FFECEC\"> ##メニ</span><span style=\"background-color: #FFE9E9\"> ##ュー</span><span style=\"background-color: #FFE0E0\"> ##は</span><span style=\"background-color: #FFE2E2\"> ##ミックス</span><span style=\"background-color: #FFF2F2\"> ##ジュー</span><span style=\"background-color: #FFCFCF\"> ##ス</span><span style=\"background-color: #FFF9F9\"> 。</span><span style=\"background-color: #FF7979\"> 異</span><span style=\"background-color: #FFB4B4\"> 論</span><span style=\"background-color: #FFF4F4\"> は</span><span style=\"background-color: #FF0000\"> 認</span><span style=\"background-color: #FFF1F1\"> め</span><span style=\"background-color: #FFE3E3\"> ##ない</span><span style=\"background-color: #FFFAFA\"> 。</span><span style=\"background-color: #FFE5E5\"> 2</span><span style=\"background-color: #FF8B8B\"> 番</span><span style=\"background-color: #FFE5E5\"> 目</span><span style=\"background-color: #FFEDED\"> は</span><span style=\"background-color: #FFF3F3\"> 山</span><span style=\"background-color: #FFE6E6\"> 芋</span><span style=\"background-color: #FFF3F3\"> の</span><span style=\"background-color: #FFF7F7\"> 鉄</span><span style=\"background-color: #FFFDFD\"> 板</span><span style=\"background-color: #FFB1B1\"> 焼</span><span style=\"background-color: #FFDBDB\"> 。</span><span style=\"background-color: #FF8585\"> 異</span><span style=\"background-color: #FFB8B8\"> 論</span><span style=\"background-color: #FFF3F3\"> は</span><span style=\"background-color: #FF1D1D\"> 認</span><span style=\"background-color: #FFD8D8\"> め</span><span style=\"background-color: #FFE7E7\"> ##る</span><span style=\"background-color: #FFF1F1\"> 。</span><br><br>[BERTのAttentionを可視化_12]<br><span style=\"background-color: #FFDBDB\"> [CLS]</span><span style=\"background-color: #FFE8E8\"> 鳥</span><span style=\"background-color: #FFF7F7\"> 貴</span><span style=\"background-color: #FFB7B7\"> 族</span><span style=\"background-color: #FF0000\"> の</span><span style=\"background-color: #FFE6E6\"> ##1</span><span style=\"background-color: #FFE5E5\"> 番</span><span style=\"background-color: #FFADAD\"> 美</span><span style=\"background-color: #FFB0B0\"> 味</span><span style=\"background-color: #FFE9E9\"> い</span><span style=\"background-color: #FFF6F6\"> ##メニ</span><span style=\"background-color: #FFCECE\"> ##ュー</span><span style=\"background-color: #FF2B2B\"> ##は</span><span style=\"background-color: #FFEAEA\"> ##ミックス</span><span style=\"background-color: #FFF6F6\"> ##ジュー</span><span style=\"background-color: #FFEFEF\"> ##ス</span><span style=\"background-color: #FF8888\"> 。</span><span style=\"background-color: #FFDCDC\"> 異</span><span style=\"background-color: #FFEBEB\"> 論</span><span style=\"background-color: #FFF0F0\"> は</span><span style=\"background-color: #FFEAEA\"> 認</span><span style=\"background-color: #FFF4F4\"> め</span><span style=\"background-color: #FFE8E8\"> ##ない</span><span style=\"background-color: #FFE9E9\"> 。</span><span style=\"background-color: #FFA4A4\"> 2</span><span style=\"background-color: #FFC2C2\"> 番</span><span style=\"background-color: #FF1E1E\"> 目</span><span style=\"background-color: #FFE0E0\"> は</span><span style=\"background-color: #FFF9F9\"> 山</span><span style=\"background-color: #FFFBFB\"> 芋</span><span style=\"background-color: #FFECEC\"> の</span><span style=\"background-color: #FFFBFB\"> 鉄</span><span style=\"background-color: #FFFDFD\"> 板</span><span style=\"background-color: #FFEDED\"> 焼</span><span style=\"background-color: #FF9898\"> 。</span><span style=\"background-color: #FFA1A1\"> 異</span><span style=\"background-color: #FFDFDF\"> 論</span><span style=\"background-color: #FFC8C8\"> は</span><span style=\"background-color: #FFD9D9\"> 認</span><span style=\"background-color: #FFF2F2\"> め</span><span style=\"background-color: #FFD1D1\"> ##る</span><span style=\"background-color: #FF7D7D\"> 。</span><br><br>[BERTのAttentionを可視化_ALL]<br><span style=\"background-color: #FFEEEE\"> [CLS]</span><span style=\"background-color: #FFFCFC\"> 鳥</span><span style=\"background-color: #FFFCFC\"> 貴</span><span style=\"background-color: #FFE8E8\"> 族</span><span style=\"background-color: #FFBFBF\"> の</span><span style=\"background-color: #FFF6F6\"> ##1</span><span style=\"background-color: #FFD2D2\"> 番</span><span style=\"background-color: #FFF4F4\"> 美</span><span style=\"background-color: #FFF4F4\"> 味</span><span style=\"background-color: #FFFDFD\"> い</span><span style=\"background-color: #FFFDFD\"> ##メニ</span><span style=\"background-color: #FFFCFC\"> ##ュー</span><span style=\"background-color: #FFF1F1\"> ##は</span><span style=\"background-color: #FFF9F9\"> ##ミックス</span><span style=\"background-color: #FFFBFB\"> ##ジュー</span><span style=\"background-color: #FFF9F9\"> ##ス</span><span style=\"background-color: #FFC4C4\"> 。</span><span style=\"background-color: #FFF5F5\"> 異</span><span style=\"background-color: #FFF4F4\"> 論</span><span style=\"background-color: #FFFBFB\"> は</span><span style=\"background-color: #FFF0F0\"> 認</span><span style=\"background-color: #FFFCFC\"> め</span><span style=\"background-color: #FFFAFA\"> ##ない</span><span style=\"background-color: #FFE3E3\"> 。</span><span style=\"background-color: #FFE8E8\"> 2</span><span style=\"background-color: #FFB7B7\"> 番</span><span style=\"background-color: #FFE6E6\"> 目</span><span style=\"background-color: #FFF2F2\"> は</span><span style=\"background-color: #FFFEFE\"> 山</span><span style=\"background-color: #FFFDFD\"> 芋</span><span style=\"background-color: #FFFAFA\"> の</span><span style=\"background-color: #FFFEFE\"> 鉄</span><span style=\"background-color: #FFFEFE\"> 板</span><span style=\"background-color: #FFF1F1\"> 焼</span><span style=\"background-color: #FFCBCB\"> 。</span><span style=\"background-color: #FFECEC\"> 異</span><span style=\"background-color: #FFF1F1\"> 論</span><span style=\"background-color: #FFEDED\"> は</span><span style=\"background-color: #FFD8D8\"> 認</span><span style=\"background-color: #FFF8F8\"> め</span><span style=\"background-color: #FFEEEE\"> ##る</span><span style=\"background-color: #FF9C9C\"> 。</span><br><br>"
      ],
      "text/plain": [
       "<IPython.core.display.HTML object>"
      ]
     },
     "execution_count": 16,
     "metadata": {},
     "output_type": "execute_result"
    }
   ],
   "source": [
    "\n",
    "index = 5669  # 出力させたいデータ\n",
    "html_output = mk_html(index)  # HTML作成\n",
    "HTML(html_output)  # HTML形式で出力"
   ]
  }
 ],
 "metadata": {
  "interpreter": {
   "hash": "ee65fd116f6dfc57d1df11a7ec1eb6ee7849f1e995398ae8384df1712a47a676"
  },
  "kernelspec": {
   "display_name": "Python 3.8.10 64-bit ('bert-1-CljRDv1X-py3.8': poetry)",
   "name": "python3"
  },
  "language_info": {
   "codemirror_mode": {
    "name": "ipython",
    "version": 3
   },
   "file_extension": ".py",
   "mimetype": "text/x-python",
   "name": "python",
   "nbconvert_exporter": "python",
   "pygments_lexer": "ipython3",
   "version": "3.8.10"
  },
  "orig_nbformat": 4
 },
 "nbformat": 4,
 "nbformat_minor": 2
}
